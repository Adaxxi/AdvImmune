{
 "cells": [
  {
   "cell_type": "code",
   "execution_count": null,
   "metadata": {
    "scrolled": true
   },
   "outputs": [
    {
     "name": "stdout",
     "output_type": "stream",
     "text": [
      "The memory_profiler extension is already loaded. To reload it, use:\n",
      "  %reload_ext memory_profiler\n"
     ]
    }
   ],
   "source": [
    "import numpy as np\n",
    "import torch\n",
    "import seaborn as sns\n",
    "from matplotlib import pyplot as plt\n",
    "import pandas as pd\n",
    "import torch\n",
    "from utils import *\n",
    "from attack import *\n",
    "from adv_immunity import *\n",
    "torch.cuda.empty_cache()\n",
    "\n",
    "np_load_old = np.load\n",
    "np.aload = lambda *a,**k: np_load_old(*a, allow_pickle=True, **k)\n",
    "%load_ext memory_profiler\n",
    "seed = 15\n",
    "alpha = 0.85\n",
    "%memit"
   ]
  },
  {
   "cell_type": "code",
   "execution_count": null,
   "metadata": {},
   "outputs": [],
   "source": [
    "# 载入数据\n",
    "file_name = 'data/cora.npz'\n",
    "graph = load_dataset(file_name=file_name)\n",
    "ori_adj, ori_attr, ori_labels = standardize(adj_matrix=graph['adj_matrix'],\n",
    "                             attr_matrix=graph['attr_matrix'],\n",
    "                             labels=graph['labels'])\n",
    "adj = torch.from_numpy(ori_adj.todense()).float()\n",
    "edge_num = adj.sum().item()\n",
    "# loaded = np.load('data/cora_pretrained_logits.npz')\n",
    "# logits = loaded['logits']\n",
    "logits = np.load('data/my_cora_logits.npy')\n",
    "labels = np.load('output_csv/cora_predict.npy')\n",
    "%memit"
   ]
  },
  {
   "cell_type": "code",
   "execution_count": 3,
   "metadata": {},
   "outputs": [],
   "source": [
    "i = 0\n",
    "x = [0, 2, 4, 6]\n",
    "# strength = [11, 9 ,7, 5]  local_budget=deg-11+strength\n",
    "deg = ori_adj.sum(1).A1.astype(np.int32)\n",
    "local_budget = np.maximum(deg-x[i] , 0)\n",
    "fragile = get_fragile(adj=ori_adj, threat_model='rem')\n",
    "\n",
    "n, nc = logits.shape"
   ]
  },
  {
   "cell_type": "code",
   "execution_count": 27,
   "metadata": {},
   "outputs": [],
   "source": [
    "import threading\n",
    "from adv_immunity import MyThread\n",
    "cur_controlled = torch.Tensor(np.aload('my_citeseer/add_rem/one_local_%d/adj_controlled_0.39%%.npy'%(6)))\n",
    "ori_ppr_changing = np.aload('my_citeseer/add_rem/one_local_%d/ori_ppr_changing.npy'%(6)).item()\n",
    "\n",
    "# grad = compute_grad(adj, ori_ppr_changing, cur_controlled, logits, labels, alpha)"
   ]
  },
  {
   "cell_type": "code",
   "execution_count": 4,
   "metadata": {},
   "outputs": [],
   "source": [
    "ori_ppr_changing = np.aload('my_cora/one_attacklocal_00/ori_ppr_changing.npy').item()\n",
    " "
   ]
  },
  {
   "cell_type": "code",
   "execution_count": 12,
   "metadata": {
    "collapsed": true
   },
   "outputs": [
    {
     "name": "stdout",
     "output_type": "stream",
     "text": [
      "time1:  0.003743410110473633\n",
      "control edges num: 0\n",
      "time2:  1.0728836059570312e-05\n",
      "time3:  0.03644895553588867\n",
      "time4:  1.388695478439331\n",
      "time5:  0.004113197326660156\n",
      "time6:  0.03221750259399414\n",
      "time3:  0.12577152252197266\n",
      "time4:  1.4529469013214111\n",
      "time5:  0.0005295276641845703\n",
      "time6:  0.023586273193359375\n",
      "time3:  0.012235403060913086\n",
      "time4:  1.3780899047851562\n",
      "time5:  0.0003383159637451172\n",
      "time6:  0.025262832641601562\n",
      "time3:  0.015499114990234375\n",
      "time4:  1.2718467712402344\n",
      "time5:  0.0001347064971923828\n",
      "time6:  0.01602005958557129\n",
      "time3:  0.012085437774658203\n",
      "time4:  1.4430983066558838\n",
      "time5:  0.00013685226440429688\n",
      "time6:  0.01824808120727539\n",
      "time3:  0.018549442291259766\n",
      "time4:  1.2620375156402588\n",
      "time5:  0.0006506443023681641\n",
      "time6:  0.01715254783630371\n",
      "time3:  0.011386632919311523\n",
      "time4:  1.2756071090698242\n",
      "time5:  0.000152587890625\n",
      "time6:  0.011132955551147461\n",
      "time3:  0.015385627746582031\n",
      "time4:  1.4912793636322021\n",
      "time5:  0.0006413459777832031\n",
      "time6:  0.017159223556518555\n",
      "time3:  0.015894174575805664\n",
      "time4:  1.369335412979126\n",
      "time5:  0.00015425682067871094\n",
      "time6:  0.009785652160644531\n",
      "time3:  0.009076356887817383\n",
      "time4:  1.439331293106079\n",
      "time5:  0.00020575523376464844\n",
      "time6:  0.0010640621185302734\n",
      "time3:  0.008306264877319336\n",
      "time4:  1.375826358795166\n",
      "time5:  0.0027985572814941406\n",
      "time6:  0.011698722839355469\n",
      "time3:  0.009494543075561523\n",
      "time4:  1.451982021331787\n",
      "time5:  0.000431060791015625\n",
      "time6:  0.023449420928955078\n",
      "time3:  0.044838666915893555\n",
      "time4:  1.4828400611877441\n",
      "time5:  0.00011587142944335938\n",
      "time6:  0.03480720520019531\n",
      "time3:  0.024544954299926758\n",
      "time4:  1.3704240322113037\n",
      "time5:  0.0018489360809326172\n",
      "time6:  0.017095327377319336\n",
      "time3:  0.017488718032836914\n",
      "time4:  1.3630456924438477\n",
      "time5:  0.00011014938354492188\n",
      "time6:  0.007092475891113281\n",
      "time3:  0.015035390853881836\n"
     ]
    },
    {
     "ename": "KeyboardInterrupt",
     "evalue": "",
     "output_type": "error",
     "traceback": [
      "\u001b[0;31m---------------------------------------------------------------------------\u001b[0m",
      "\u001b[0;31mKeyboardInterrupt\u001b[0m                         Traceback (most recent call last)",
      "\u001b[0;32m<ipython-input-12-d420733ddebf>\u001b[0m in \u001b[0;36m<module>\u001b[0;34m\u001b[0m\n\u001b[1;32m     28\u001b[0m                     \u001b[0mprint\u001b[0m\u001b[0;34m(\u001b[0m\u001b[0;34m'time3: '\u001b[0m\u001b[0;34m,\u001b[0m \u001b[0mtime\u001b[0m\u001b[0;34m.\u001b[0m\u001b[0mtime\u001b[0m\u001b[0;34m(\u001b[0m\u001b[0;34m)\u001b[0m \u001b[0;34m-\u001b[0m \u001b[0mbegin\u001b[0m\u001b[0;34m)\u001b[0m\u001b[0;34m\u001b[0m\u001b[0;34m\u001b[0m\u001b[0m\n\u001b[1;32m     29\u001b[0m                     \u001b[0mbegin\u001b[0m \u001b[0;34m=\u001b[0m \u001b[0mtime\u001b[0m\u001b[0;34m.\u001b[0m\u001b[0mtime\u001b[0m\u001b[0;34m(\u001b[0m\u001b[0;34m)\u001b[0m\u001b[0;34m\u001b[0m\u001b[0;34m\u001b[0m\u001b[0m\n\u001b[0;32m---> 30\u001b[0;31m                     \u001b[0mppr_flipped\u001b[0m\u001b[0;34m[\u001b[0m\u001b[0;34m(\u001b[0m\u001b[0mc1\u001b[0m\u001b[0;34m,\u001b[0m\u001b[0mc2\u001b[0m\u001b[0;34m)\u001b[0m\u001b[0;34m]\u001b[0m \u001b[0;34m=\u001b[0m \u001b[0mpropagation_matrix\u001b[0m\u001b[0;34m(\u001b[0m\u001b[0madj\u001b[0m\u001b[0;34m=\u001b[0m\u001b[0mmodified_adj\u001b[0m\u001b[0;34m,\u001b[0m \u001b[0malpha\u001b[0m\u001b[0;34m=\u001b[0m\u001b[0malpha\u001b[0m\u001b[0;34m)\u001b[0m\u001b[0;34m\u001b[0m\u001b[0;34m\u001b[0m\u001b[0m\n\u001b[0m\u001b[1;32m     31\u001b[0m                     \u001b[0mprint\u001b[0m\u001b[0;34m(\u001b[0m\u001b[0;34m'time4: '\u001b[0m\u001b[0;34m,\u001b[0m \u001b[0mtime\u001b[0m\u001b[0;34m.\u001b[0m\u001b[0mtime\u001b[0m\u001b[0;34m(\u001b[0m\u001b[0;34m)\u001b[0m \u001b[0;34m-\u001b[0m \u001b[0mbegin\u001b[0m\u001b[0;34m)\u001b[0m\u001b[0;34m\u001b[0m\u001b[0;34m\u001b[0m\u001b[0m\n\u001b[1;32m     32\u001b[0m                     \u001b[0mbegin\u001b[0m \u001b[0;34m=\u001b[0m \u001b[0mtime\u001b[0m\u001b[0;34m.\u001b[0m\u001b[0mtime\u001b[0m\u001b[0;34m(\u001b[0m\u001b[0;34m)\u001b[0m\u001b[0;34m\u001b[0m\u001b[0;34m\u001b[0m\u001b[0m\n",
      "\u001b[0;32m~/adv_immunity/utils.py\u001b[0m in \u001b[0;36mpropagation_matrix\u001b[0;34m(adj, alpha, sigma)\u001b[0m\n\u001b[1;32m    151\u001b[0m     \"\"\"\n\u001b[1;32m    152\u001b[0m     \u001b[0mdeg\u001b[0m \u001b[0;34m=\u001b[0m \u001b[0madj\u001b[0m\u001b[0;34m.\u001b[0m\u001b[0msum\u001b[0m\u001b[0;34m(\u001b[0m\u001b[0;36m1\u001b[0m\u001b[0;34m)\u001b[0m\u001b[0;34m\u001b[0m\u001b[0;34m\u001b[0m\u001b[0m\n\u001b[0;32m--> 153\u001b[0;31m     \u001b[0mdeg_min_sig\u001b[0m \u001b[0;34m=\u001b[0m \u001b[0mtorch\u001b[0m\u001b[0;34m.\u001b[0m\u001b[0mmatrix_power\u001b[0m\u001b[0;34m(\u001b[0m\u001b[0mtorch\u001b[0m\u001b[0;34m.\u001b[0m\u001b[0mdiag\u001b[0m\u001b[0;34m(\u001b[0m\u001b[0mdeg\u001b[0m\u001b[0;34m)\u001b[0m\u001b[0;34m,\u001b[0m \u001b[0;34m-\u001b[0m\u001b[0msigma\u001b[0m\u001b[0;34m)\u001b[0m\u001b[0;34m\u001b[0m\u001b[0;34m\u001b[0m\u001b[0m\n\u001b[0m\u001b[1;32m    154\u001b[0m     \u001b[0;31m# 为了节省内存 100m\u001b[0m\u001b[0;34m\u001b[0m\u001b[0;34m\u001b[0m\u001b[0;34m\u001b[0m\u001b[0m\n\u001b[1;32m    155\u001b[0m     \u001b[0;32mif\u001b[0m \u001b[0msigma\u001b[0m \u001b[0;34m-\u001b[0m \u001b[0;36m1\u001b[0m \u001b[0;34m==\u001b[0m \u001b[0;36m0\u001b[0m\u001b[0;34m:\u001b[0m\u001b[0;34m\u001b[0m\u001b[0;34m\u001b[0m\u001b[0m\n",
      "\u001b[0;31mKeyboardInterrupt\u001b[0m: "
     ]
    }
   ],
   "source": [
    "con_budget = 2 \n",
    "begin = time.time()\n",
    "n,nc = logits.shape\n",
    "control_num = 0   \n",
    "\n",
    "adj_controlled = torch.ones([n, n])\n",
    "adj_controlled.requires_grad_()\n",
    "control_10 = []\n",
    "\n",
    "print('time1: ', time.time() - begin)\n",
    "begin = time.time()\n",
    "while control_num < con_budget:\n",
    "        # 需不需要考虑局部控制\n",
    "    local_flag = True\n",
    "    if control_num % 1 == 0:\n",
    "            print('control edges num:', control_num)\n",
    "            begin = time.time()\n",
    "        # 控制边后，扰动的新矩阵  \n",
    "        # A^ = A + A' * Ec\n",
    "    ppr_flipped = {}\n",
    "    loss = {}\n",
    "    print('time2: ', time.time() - begin)\n",
    "    begin = time.time()\n",
    "    for c1 in range(nc):\n",
    "            for c2 in range(nc):\n",
    "                if c1 != c2:\n",
    "                    modified_adj = adj + torch.mul(ori_ppr_changing[(c1,c2)]['changing'], adj_controlled)\n",
    "                    print('time3: ', time.time() - begin)\n",
    "                    begin = time.time()\n",
    "                    ppr_flipped[(c1,c2)] = propagation_matrix(adj=modified_adj, alpha=alpha)\n",
    "                    print('time4: ', time.time() - begin)\n",
    "                    begin = time.time()\n",
    "                    tmp_re = torch.from_numpy(logits[:,c1] - logits[:,c2]).float()\n",
    "                    print('time5: ', time.time() - begin)\n",
    "                    begin = time.time()\n",
    "                    loss[c1,c2] = ppr_flipped[(c1,c2)] @ tmp_re\n",
    "                    print('time6: ', time.time() - begin)\n",
    "                    begin = time.time()\n",
    "\n",
    "    worst_class = worstcase_class(ppr_flipped, labels, logits)\n",
    "    final_loss = compute_final_loss(loss, labels, worst_class)\n",
    "#     print('time4: ', time.time() - begin)\n",
    "#     begin = time.time()\n",
    "    final_loss.backward(torch.ones_like(final_loss))\n",
    "    adj_grad = -adj_controlled.grad\n",
    "#     print('time5: ', time.time() - begin)\n",
    "#     begin = time.time()\n",
    "        # Get argmax of the meta gradients.\n",
    "        # 选一个最大的元梯度，小心梯度最大的永远都是同一个！！  \n",
    "    if control_num != 0:\n",
    "            adj_grad[row_idx, col_idx] = 0\n",
    "            for idx in exceed_local:\n",
    "                adj_grad[idx, :] = 0\n",
    "        \n",
    "    if con_budget_local is not None:\n",
    "            while local_flag == True:\n",
    "            # local_flag = True\n",
    "                adj_grad_argmax = torch.argmax(adj_grad)\n",
    "                new_row_idx, new_col_idx = unravel_index(adj_grad_argmax, adj.shape)\n",
    "                if np.where(adj_controlled[new_row_idx.data] < 1)[0].shape[0] >= con_budget_local[new_row_idx.data]:\n",
    "                    adj_grad[new_row_idx.data,:] = 0\n",
    "                    local_flag = True\n",
    "                    exceed_local.append(new_row_idx.data)\n",
    "                else:\n",
    "                    local_flag = False\n",
    "    else:\n",
    "            adj_grad_argmax = torch.argmax(adj_grad)\n",
    "            new_row_idx, new_col_idx = unravel_index(adj_grad_argmax, adj.shape)\n",
    "        \n",
    "        # local_flag = False\n",
    "        # 给控制的边集增加一条边\n",
    "    adj_controlled[new_row_idx.item(), new_col_idx.item()] = 0\n",
    "    \n",
    "        # print(new_row_idx, new_col_idx)\n",
    "        # 重新变成叶子节点，有梯度\n",
    "    adj_controlled = adj_controlled.detach()\n",
    "    adj_controlled.requires_grad_()\n",
    "        \n",
    "    row_idx = np.where(adj_controlled == 0)[0]\n",
    "    col_idx = np.where(adj_controlled == 0)[1]\n",
    "    control_num = row_idx.shape[0]\n",
    "        \n",
    "    del modified_adj, ppr_flipped\n",
    "        \n",
    "del adj_grad, adj_grad_argmax, row_idx, col_idx, exceed_local\n",
    "end = time.time()\n",
    "print('time: ', time.time() - begin)\n"
   ]
  },
  {
   "cell_type": "code",
   "execution_count": 40,
   "metadata": {},
   "outputs": [],
   "source": [
    "modified_adj1 = adj + torch.mul(ori_ppr_changing[(0,1)]['changing'], torch.ones((n,n)))\n",
    "\n",
    "modified_ppr1 = propagation_matrix(adj=modified_adj1, alpha=alpha)"
   ]
  },
  {
   "cell_type": "code",
   "execution_count": null,
   "metadata": {},
   "outputs": [],
   "source": []
  },
  {
   "cell_type": "code",
   "execution_count": 65,
   "metadata": {},
   "outputs": [
    {
     "name": "stdout",
     "output_type": "stream",
     "text": [
      "control edges num: 0\n",
      "time1:  0.14756298065185547\n",
      "time2:  22.501909017562866\n",
      "time3:  3.686580181121826\n",
      "time4:  23.383091688156128\n",
      "time:  0.1424877643585205\n"
     ]
    }
   ],
   "source": [
    "con_budget = 10\n",
    "begin = time.time()\n",
    "n,nc = logits.shape\n",
    "\n",
    "adj_controlled = torch.ones((n,n))\n",
    "adj_controlled.requires_grad_()\n",
    "control_num = 0\n",
    "while control_num < con_budget:\n",
    "        # 需不需要考虑局部控制\n",
    "        local_flag = True\n",
    "        if (control_num-1) % 1 == 0:\n",
    "            print('control edges num:', control_num)\n",
    "        # 控制边后，扰动的新矩阵  \n",
    "        # A^ = A + A' * Ec\n",
    "        cnt = 0\n",
    "        ppr_flipped = {}\n",
    "        loss = {}\n",
    "        threads = []\n",
    "        print('time1: ', time.time() - begin)\n",
    "        begin = time.time()\n",
    "        for c1 in range(nc):\n",
    "            a = np.arange(nc)\n",
    "            new_a = np.delete(a, c1)\n",
    "            for c2 in new_a:\n",
    "                p = MyThread(compute_loss, args=(adj, ori_ppr_changing[(c1,c2)]['changing'], \n",
    "                                                     adj_controlled, logits, alpha, c1, c2))\n",
    "                p.start()\n",
    "                threads.append(p)\n",
    "\n",
    "        for p in threads:\n",
    "            p.join()\n",
    "            c1, c2, ppr_flipped_class, loss_each_class = p.get_result()\n",
    "            ppr_flipped[(c1, c2)] = ppr_flipped_class\n",
    "            loss[c1,c2] = loss_each_class\n",
    "        print('time2: ', time.time() - begin)\n",
    "        begin = time.time()\n",
    "        worst_class = worstcase_class(ppr_flipped, labels, logits)\n",
    "        final_loss = compute_final_loss(loss, labels, worst_class)\n",
    "        print('time3: ', time.time() - begin)\n",
    "        begin = time.time()\n",
    "        # 计算 pi*r 对于 adj_controlled 元梯度\n",
    "        final_loss.backward(torch.ones_like(final_loss))\n",
    "        print('time4: ', time.time() - begin)\n",
    "        begin = time.time()\n",
    "        adj_grad = -adj_controlled.grad\n",
    "        # Get argmax of the meta gradients.\n",
    "        # 选一个最大的元梯度，小心梯度最大的永远都是同一个！！\n",
    "        if control_num != 0:\n",
    "            row_idx = np.where(adj_controlled == 0)[0]\n",
    "            col_idx = np.where(adj_controlled == 0)[1]\n",
    "            adj_grad[row_idx, col_idx] = 0\n",
    "        np.where(argsort==np.argsort(adj_grad))\n",
    "        adj_grad_argmax = torch.argmax(adj_grad)\n",
    "        new_row_idx, new_col_idx = unravel_index(adj_grad_argmax, adj.shape)\n",
    "        adj_grad[new_row_idx, new_col_idx] = 0\n",
    "        adj_controlled[new_row_idx.item(), new_col_idx.item()] = 0\n",
    "        \n",
    "        # 重新变成叶子节点，有梯度\n",
    "        adj_controlled = adj_controlled.detach()\n",
    "        adj_controlled.requires_grad_()\n",
    "        \n",
    "        row_idx = np.where(adj_controlled == 0)[0]\n",
    "        col_idx = np.where(adj_controlled == 0)[1]\n",
    "\n",
    "        control_num = row_idx.shape[0]\n",
    "#         if (control_num-cur_control_num)>200 and (control_num-cur_control_num) %100 ==0:\n",
    "#             np.save('my_reddit/add_rem/one_local_%d/adj_controlled_%d.npy'%(6,int(control_num-cur_control_num)), adj_controlled.detach().numpy())\n",
    "        del ppr_flipped\n",
    "\n",
    "\n",
    "end = time.time()\n",
    "print('time: ', end - begin)"
   ]
  },
  {
   "cell_type": "code",
   "execution_count": 66,
   "metadata": {},
   "outputs": [
    {
     "data": {
      "text/plain": [
       "tensor([[   0, 1868, 1869,  ...,  932, 1581, 2241],\n",
       "        [   0, 1867, 1868,  ..., 2171, 2060, 1123],\n",
       "        [   0, 1866, 1867,  ..., 1060,    1, 2060],\n",
       "        ...,\n",
       "        [   0, 1867, 1868,  ...,  940,  876, 2216],\n",
       "        [   0, 1868, 1869,  ...,  943,  198,  730],\n",
       "        [   0, 1868, 1869,  ...,  941,  933, 2809]])"
      ]
     },
     "execution_count": 66,
     "metadata": {},
     "output_type": "execute_result"
    }
   ],
   "source": [
    "argsort = np.argsort(adj_grad)\n",
    "argsort\n"
   ]
  },
  {
   "cell_type": "code",
   "execution_count": 67,
   "metadata": {},
   "outputs": [
    {
     "data": {
      "text/plain": [
       "tensor([[-0.0000, -0.0000, -0.0000,  ..., -0.0000, -0.0000, -0.0000],\n",
       "        [-0.0000, -0.0000, 0.4558,  ..., -0.0000, -0.0000, -0.0000],\n",
       "        [-0.0000, 9.1866, -0.0000,  ..., -0.0000, -0.0000, -0.0000],\n",
       "        ...,\n",
       "        [-0.0000, -0.0000, -0.0000,  ..., -0.0000, -0.0000, -0.0000],\n",
       "        [-0.0000, -0.0000, -0.0000,  ..., -0.0000, -0.0000, -0.0000],\n",
       "        [-0.0000, -0.0000, -0.0000,  ..., -0.0000, -0.0000, -0.0000]])"
      ]
     },
     "execution_count": 67,
     "metadata": {},
     "output_type": "execute_result"
    }
   ],
   "source": [
    "adj_grad"
   ]
  },
  {
   "cell_type": "code",
   "execution_count": 39,
   "metadata": {},
   "outputs": [],
   "source": [
    "modified_adj2 = adj + torch.mul(ori_ppr_changing[(0,1)]['changing'], adj_controlled)\n",
    "\n",
    "modified_ppr2 = propagation_matrix(adj=modified_adj2, alpha=alpha)"
   ]
  },
  {
   "cell_type": "code",
   "execution_count": 41,
   "metadata": {},
   "outputs": [
    {
     "data": {
      "text/plain": [
       "tensor([[1044, 1086]])"
      ]
     },
     "execution_count": 41,
     "metadata": {},
     "output_type": "execute_result"
    }
   ],
   "source": [
    "torch.nonzero(adj_controlled==0)"
   ]
  },
  {
   "cell_type": "code",
   "execution_count": 44,
   "metadata": {},
   "outputs": [
    {
     "name": "stdout",
     "output_type": "stream",
     "text": [
      "(125,)\n"
     ]
    },
    {
     "data": {
      "text/plain": [
       "(array([   1,    5,    5,  143,  516,  807,  902,  907, 1039, 1040, 1040,\n",
       "        1042, 1042, 1043, 1043, 1044, 1044, 1044, 1045, 1045, 1046, 1047,\n",
       "        1048, 1049, 1050, 1054, 1057, 1058, 1059, 1059, 1060, 1061, 1062,\n",
       "        1062, 1065, 1068, 1069, 1070, 1070, 1072, 1072, 1076, 1078, 1080,\n",
       "        1081, 1082, 1086, 1086, 1087, 1088, 1089, 1089, 1090, 1095, 1096,\n",
       "        1101, 1104, 1106, 1110, 1111, 1113, 1119, 1121, 1123, 1129, 1134,\n",
       "        1136, 1139, 1152, 1156, 1159, 1160, 1164, 1165, 1179, 1184, 1184,\n",
       "        1185, 1185, 1187, 1187, 1189, 1190, 1193, 1194, 1514, 1553, 1553,\n",
       "        1558, 1569, 1640, 1735, 1864, 1931, 2030, 2060, 2100, 2124, 2136,\n",
       "        2137, 2170, 2171, 2266, 2279, 2280, 2331, 2331, 2341, 2349, 2476,\n",
       "        2498, 2499, 2500, 2502, 2521, 2534, 2535, 2536, 2608, 2664, 2665,\n",
       "        2703, 2704, 2705, 2706]),\n",
       " array([1086,  902, 1086, 1086, 1086, 1086, 1086, 1086, 1086,  902, 1086,\n",
       "         902, 1086,  902, 1086,  902, 1086, 1390,  902, 1086, 1086, 1086,\n",
       "        1086, 1086, 1086, 1086, 1086, 1086,  902, 1086, 1086, 1086,  902,\n",
       "        1086, 1086, 1086, 1086,  902, 1086,  902, 1086, 1086, 1086, 1086,\n",
       "        1086, 1086,  902, 1086, 1086, 1086,  902, 1086, 1086, 1086, 1086,\n",
       "        1086, 1086, 1086, 1086, 1086, 1086, 1086, 1086, 1086, 1086, 1086,\n",
       "        1086, 1086, 1086, 1086, 1086, 1086, 1086, 1086, 1086,  902, 1086,\n",
       "         902, 1086,  902, 1086, 1086, 1086, 1086, 1086, 1086,  902, 1086,\n",
       "        1086, 1086, 1086, 1086, 1086, 1086, 1086, 1086, 1086, 1086, 1086,\n",
       "        1086, 1086, 1086, 1086, 1086, 1086,  902, 1086, 1086, 1086, 1086,\n",
       "        1086, 1086, 1086, 1086, 1086, 1086, 1086, 1086, 1086, 1086, 1086,\n",
       "        1086, 1086, 1086, 1086]))"
      ]
     },
     "execution_count": 44,
     "metadata": {},
     "output_type": "execute_result"
    }
   ],
   "source": [
    "diff = modified_ppr2-modified_ppr1\n",
    "print(np.where(diff > 0.01)[0].shape)\n",
    "np.where(diff > 0.01)"
   ]
  },
  {
   "cell_type": "code",
   "execution_count": 27,
   "metadata": {},
   "outputs": [
    {
     "data": {
      "text/plain": [
       "(7823248,)"
      ]
     },
     "execution_count": 27,
     "metadata": {},
     "output_type": "execute_result"
    }
   ],
   "source": [
    "np.where(modified_ppr2!=modified_ppr1)[0].shape"
   ]
  },
  {
   "cell_type": "code",
   "execution_count": 61,
   "metadata": {},
   "outputs": [
    {
     "name": "stdout",
     "output_type": "stream",
     "text": [
      "(16,)\n"
     ]
    },
    {
     "data": {
      "text/plain": [
       "(array([], dtype=int64), array([], dtype=int64))"
      ]
     },
     "execution_count": 61,
     "metadata": {},
     "output_type": "execute_result"
    }
   ],
   "source": [
    "new2 = modified_ppr2.clone()\n",
    "new2[:,1086] = modified_ppr1[:,1086]\n",
    "new2[1044,:] = modified_ppr1[1044,:]\n",
    "\n",
    "new_diff = new2 - modified_ppr1\n",
    "print(np.where(new_diff > 0.01)[0].shape)\n",
    "np.where(new_diff > 0.1)"
   ]
  },
  {
   "cell_type": "code",
   "execution_count": 60,
   "metadata": {},
   "outputs": [
    {
     "data": {
      "text/plain": [
       "0.0"
      ]
     },
     "execution_count": 60,
     "metadata": {},
     "output_type": "execute_result"
    }
   ],
   "source": [
    "ori_adj[1044,902]"
   ]
  },
  {
   "cell_type": "code",
   "execution_count": 53,
   "metadata": {},
   "outputs": [
    {
     "data": {
      "text/plain": [
       "tensor(1.0111e-06)"
      ]
     },
     "execution_count": 53,
     "metadata": {},
     "output_type": "execute_result"
    }
   ],
   "source": [
    "modified_ppr1[1159,1086]"
   ]
  },
  {
   "cell_type": "code",
   "execution_count": 54,
   "metadata": {},
   "outputs": [
    {
     "data": {
      "text/plain": [
       "tensor(0.0108, grad_fn=<SelectBackward>)"
      ]
     },
     "execution_count": 54,
     "metadata": {},
     "output_type": "execute_result"
    }
   ],
   "source": [
    "modified_ppr2[1159,1086]"
   ]
  },
  {
   "cell_type": "code",
   "execution_count": 55,
   "metadata": {},
   "outputs": [
    {
     "data": {
      "text/plain": [
       "tensor(1.0111e-06, grad_fn=<SelectBackward>)"
      ]
     },
     "execution_count": 55,
     "metadata": {},
     "output_type": "execute_result"
    }
   ],
   "source": [
    "# new2 = modified_ppr2.clone()\n",
    "new2[1159,1086]"
   ]
  },
  {
   "cell_type": "code",
   "execution_count": 11,
   "metadata": {},
   "outputs": [
    {
     "name": "stdout",
     "output_type": "stream",
     "text": [
      "After control 6.0%: Ratio of certified all nodes: 0.971564\n",
      "num of robust node: 2050\n",
      "worst case margin: 0.960679\n"
     ]
    }
   ],
   "source": [
    "# print('local_budget = deg -', x[i])\n",
    "# ori_worst_margins = worst_margins_given_k_squared(ori_ppr_changing, labels, logits)\n",
    "# print('Original Ratio of certified all nodes: {:.6f}'.format((ori_worst_margins>0).mean()))\n",
    "# print('Original num of robust node:', (ori_worst_margins>0).sum())\n",
    "# print('worst case margin: {:.6f}'.format(ori_worst_margins.mean()))\n",
    "# con_budget = 50\n",
    "# adj_controlled = torch.Tensor(np.aload('my_cora/one_local_%d%d/adj_controlled_%d.npy'%(x[i],x[i],con_budget)))\n",
    "\n",
    "cur_controlled = torch.zeros((n,n))\n",
    "cur_controlled[0,:] = 1\n",
    "con_ppr_changing = pagerank_adj_changing(ori_adj, alpha, fragile, cur_controlled, local_budget, logits)\n",
    "con_worst_margins = worst_margins_given_k_squared(con_ppr_changing, labels, logits)\n",
    "print('After control {:.1f}%: Ratio of certified all nodes: {:.6f}'.format(6.0,(con_worst_margins>0).mean()))\n",
    "print('num of robust node:', (con_worst_margins>0).sum())\n",
    "print('worst case margin: {:.6f}'.format(con_worst_margins.mean()))\n"
   ]
  },
  {
   "cell_type": "code",
   "execution_count": 14,
   "metadata": {},
   "outputs": [
    {
     "name": "stdout",
     "output_type": "stream",
     "text": [
      "After control : Ratio of certified all nodes: 0.485782\n",
      "num of robust node: 1025\n",
      "worst case margin: 0.076720\n"
     ]
    }
   ],
   "source": [
    "print('After control : Ratio of certified all nodes: {:.6f}'.format((con_worst_margins>0).mean()))\n",
    "print('num of robust node:', (con_worst_margins>0).sum())\n",
    "print('worst case margin: {:.6f}'.format(con_worst_margins.mean()))"
   ]
  },
  {
   "cell_type": "code",
   "execution_count": null,
   "metadata": {},
   "outputs": [],
   "source": []
  },
  {
   "cell_type": "code",
   "execution_count": 4,
   "metadata": {},
   "outputs": [],
   "source": [
    "# # 攻击设成20%\n",
    "# global_budget = round(edge_num * 0.2)\n",
    "# non_control = torch.ones(n,n)\n",
    "\n",
    "# upper_bounds = upper_bounds_max_ppr_all_nodes(ori_adj, alpha, fragile, local_budget, do_parallel=True)\n",
    "# np.save('my_cora/add_rem/global_local_6/upper_bounds.npy',upper_bounds)"
   ]
  },
  {
   "cell_type": "code",
   "execution_count": null,
   "metadata": {},
   "outputs": [
    {
     "name": "stdout",
     "output_type": "stream",
     "text": [
      "Using license file /home/taoshuchang/gurobi.lic\n",
      "Academic license - for non-commercial use only\n"
     ]
    }
   ],
   "source": [
    "global_budget = round(edge_num * 0.2)\n",
    "non_control = torch.ones(n,n)\n",
    "upper_bounds = np.load('my_cora/add_rem/global_local_6/upper_bounds.npy')\n",
    "ori_ppr_changing = pagerank_adj_changing(\n",
    "    ori_adj, alpha, fragile, non_control, local_budget, logits, global_budget, upper_bounds)\n",
    "np.save('my_cora/add_rem/global_local_6/ori_ppr_changing.npy', ori_ppr_changing)\n",
    "\n",
    "ori_worst_margins = worst_margins_given_k_squared(ori_ppr_changing, labels, logits)\n",
    "print('Original Ratio of certified all nodes: {:.6f}'.format((ori_worst_margins>0).mean()))\n",
    "print('%.6f'%ori_worst_margins.mean())"
   ]
  },
  {
   "cell_type": "code",
   "execution_count": null,
   "metadata": {},
   "outputs": [],
   "source": []
  },
  {
   "cell_type": "code",
   "execution_count": null,
   "metadata": {},
   "outputs": [],
   "source": []
  },
  {
   "cell_type": "code",
   "execution_count": 4,
   "metadata": {},
   "outputs": [],
   "source": [
    "file_name = 'data/cora.npz'\n",
    "graph = load_dataset(file_name=file_name)\n",
    "cora_adj, cora_attr, cora_labels = standardize(adj_matrix=graph['adj_matrix'],\n",
    "                             attr_matrix=graph['attr_matrix'],\n",
    "                             labels=graph['labels'])\n",
    "\n",
    "file_name = 'data/citeseer.npz'\n",
    "graph = load_dataset(file_name=file_name)\n",
    "citeseer_adj, citeseer_attr, citeseer_labels = standardize(adj_matrix=graph['adj_matrix'],\n",
    "                             attr_matrix=graph['attr_matrix'],\n",
    "                             labels=graph['labels'])\n",
    "\n",
    "file_name = 'data/nei_reddit.npz'\n",
    "graph = load_dataset(file_name=file_name)\n",
    "reddit_adj, reddit_attr, reddit_labels = standardize(adj_matrix=graph['adj_matrix'],\n",
    "                             attr_matrix=graph['attr_matrix'],\n",
    "                             labels=graph['labels'])"
   ]
  },
  {
   "cell_type": "code",
   "execution_count": null,
   "metadata": {},
   "outputs": [],
   "source": [
    "from numpy import linalg as LA\n",
    "cora_d = cora_adj.sum(1)\n",
    "cora_adj.todense()\n",
    "\n",
    "np.linalg.eig()"
   ]
  },
  {
   "cell_type": "code",
   "execution_count": 59,
   "metadata": {},
   "outputs": [],
   "source": [
    "citeseer_degree = np.squeeze(citeseer_adj.sum(axis=1).getA())\n",
    "citeseer_D=np.diag(citeseer_degree)\n",
    "citeseer_L = citeseer_D - citeseer_adj.todense()\n",
    "citeseer_D_inv = np.diag(1/np.sqrt(citeseer_degree))\n",
    "citeseer_normal_L = citeseer_D_inv * citeseer_L * citeseer_D_inv\n",
    "citeseer_value, citeseer_vector = np.linalg.eig(citeseer_normal_L)"
   ]
  },
  {
   "cell_type": "code",
   "execution_count": 58,
   "metadata": {},
   "outputs": [],
   "source": [
    "cora_degree = np.squeeze(cora_adj.sum(axis=1).getA())\n",
    "cora_D=np.diag(cora_degree)\n",
    "cora_L = cora_D - cora_adj.todense()\n",
    "cora_D_inv = np.diag(1/np.sqrt(cora_degree))\n",
    "cora_normal_L = cora_D_inv * cora_L * cora_D_inv\n",
    "cora_value, cora_vector = np.linalg.eig(cora_normal_L)\n"
   ]
  },
  {
   "cell_type": "code",
   "execution_count": 60,
   "metadata": {},
   "outputs": [],
   "source": [
    "reddit_degree = np.squeeze(reddit_adj.sum(axis=1).getA())\n",
    "reddit_D=np.diag(reddit_degree)\n",
    "reddit_L = reddit_D - reddit_adj.todense()\n",
    "reddit_D_inv = np.diag(1/np.sqrt(reddit_degree))\n",
    "reddit_normal_L = reddit_D_inv * reddit_L * reddit_D_inv\n",
    "reddit_value, reddit_vector = np.linalg.eig(reddit_normal_L)"
   ]
  },
  {
   "cell_type": "code",
   "execution_count": 65,
   "metadata": {},
   "outputs": [
    {
     "data": {
      "text/plain": [
       "(-9.369175483901675e-16+0j)"
      ]
     },
     "execution_count": 65,
     "metadata": {},
     "output_type": "execute_result"
    }
   ],
   "source": [
    "reddit_value.min()"
   ]
  },
  {
   "cell_type": "code",
   "execution_count": 61,
   "metadata": {
    "scrolled": true
   },
   "outputs": [
    {
     "name": "stdout",
     "output_type": "stream",
     "text": [
      "citeseer, cora, reddit\n",
      "max\n",
      "(1.9842529+0j) 1.9246471 (1.9680211335289184+0j)\n",
      "sum\n",
      "(2109.9998+0j) 2810.0 (3069.000000000007+0j)\n"
     ]
    }
   ],
   "source": [
    "print('citeseer, cora, reddit')\n",
    "print('max')\n",
    "print(citeseer_value.max(), cora_value.max(),reddit_value.max())\n",
    "print('sum')\n",
    "print(citeseer_value.sum(), cora_value.sum(),reddit_value.sum())\n"
   ]
  },
  {
   "cell_type": "code",
   "execution_count": 62,
   "metadata": {},
   "outputs": [
    {
     "name": "stdout",
     "output_type": "stream",
     "text": [
      "citeseer, cora, reddit\n",
      "2nd small\n",
      "(0.0015549194+0j) 0.007356498 (0.0013138564201315582+0j)\n",
      "smallest\n",
      "(-1.6537944e-08+0j) -1.692594e-08 (-9.369175483901675e-16+0j)\n",
      "biggest 10 sum\n",
      "(19.733955+0j) 19.040594 (19.356487329370587+0j)\n",
      "smallest 10 sum\n",
      "(0.054784045+0j) 0.1754366 (0.26036975377389376+0j)\n"
     ]
    }
   ],
   "source": [
    "citeseer_value_sort = np.sort(citeseer_value)\n",
    "cora_value_sort = np.sort(cora_value)\n",
    "reddit_value_sort = np.sort(reddit_value)\n",
    "\n",
    "print('citeseer, cora, reddit')\n",
    "print('2nd small')\n",
    "print(citeseer_value_sort[1], cora_value_sort[1],reddit_value_sort[1])\n",
    "print('smallest')\n",
    "print(citeseer_value_sort[0], cora_value_sort[0],reddit_value_sort[0])\n",
    "print('biggest 10 sum')\n",
    "print(citeseer_value_sort[-10:].sum(), cora_value_sort[-10:].sum(),reddit_value_sort[-10:].sum())\n",
    "print('smallest 10 sum')\n",
    "print(citeseer_value_sort[:10].sum(), cora_value_sort[:10].sum(),reddit_value_sort[:10].sum())"
   ]
  },
  {
   "cell_type": "code",
   "execution_count": 45,
   "metadata": {},
   "outputs": [
    {
     "name": "stdout",
     "output_type": "stream",
     "text": [
      "[ 24.221754+0.j  24.586914+0.j  27.724566+0.j  29.278154+0.j\n",
      "  30.535675+0.j  31.46815 +0.j  35.204075+0.j  36.306744+0.j\n",
      "  52.039223+0.j 100.04485 +0.j]\n",
      "[ 56.06413 +0.j  60.109303+0.j  63.029762+0.j  68.167725+0.j\n",
      "  73.04901 +0.j  75.095825+0.j  77.1021  +0.j  80.141   +0.j\n",
      " 153.0326  +0.j 247.01288 +0.j]\n",
      "[36.17191803+0.j 37.13821708+0.j 37.44966354+0.j 42.26486436+0.j\n",
      " 42.48903624+0.j 49.09990932+0.j 49.27385567+0.j 56.19624549+0.j\n",
      " 66.11788398+0.j 73.1059817 +0.j]\n"
     ]
    }
   ],
   "source": [
    "print(citeseer_value_sort[-10:])\n",
    "print(cora_value_sort[-10:])\n",
    "print(reddit_value_sort[-10:])\n"
   ]
  },
  {
   "cell_type": "code",
   "execution_count": 6,
   "metadata": {},
   "outputs": [
    {
     "name": "stdout",
     "output_type": "stream",
     "text": [
      "2.0\n"
     ]
    }
   ],
   "source": [
    "import networkx as nx\n",
    "print(nx.__version__)\n",
    "cora_G = nx.from_scipy_sparse_matrix(cora_adj)\n",
    "citeseer_G = nx.from_scipy_sparse_matrix(citeseer_adj)\n",
    "reddit_G = nx.from_scipy_sparse_matrix(reddit_adj)\n"
   ]
  },
  {
   "cell_type": "code",
   "execution_count": 9,
   "metadata": {},
   "outputs": [
    {
     "name": "stdout",
     "output_type": "stream",
     "text": [
      "cora\n",
      "density 0.0020222239395739925\n",
      "rank 2402\n"
     ]
    }
   ],
   "source": [
    "print('cora')\n",
    "print('density',nx.density(cora_G))\n",
    "print('rank',np.linalg.matrix_rank(cora_adj.todense()))\n",
    "# print('degree centrality',nx.degree_centrality(cora_G))\n",
    "# print('eigenvector centrality',nx.eigenvector_centrality(cora_G))\n",
    "# print('closeness centrality',nx.closeness_centrality(cora_G))\n",
    "# 聚集系数\n",
    "nx.average_clustering(cora_G)\n",
    "nx.average_clustering(citeseer_G)\n",
    "nx.average_clustering(reddit_G)"
   ]
  },
  {
   "cell_type": "code",
   "execution_count": 5,
   "metadata": {},
   "outputs": [
    {
     "data": {
      "text/plain": [
       "tensor([4, 3, 2])"
      ]
     },
     "execution_count": 5,
     "metadata": {},
     "output_type": "execute_result"
    }
   ],
   "source": [
    "import torch\n",
    "a = torch.arange(5)*10\n",
    "_,indices = torch.topk(a,3)\n",
    "indices"
   ]
  },
  {
   "cell_type": "code",
   "execution_count": 10,
   "metadata": {},
   "outputs": [
    {
     "name": "stdout",
     "output_type": "stream",
     "text": [
      "citeseer\n",
      "density 0.0016485430304337763\n",
      "rank 1778\n"
     ]
    }
   ],
   "source": [
    "print('citeseer')\n",
    "print('density',nx.density(citeseer_G))\n",
    "print('rank',np.linalg.matrix_rank(citeseer_adj.todense()))"
   ]
  },
  {
   "cell_type": "code",
   "execution_count": 11,
   "metadata": {},
   "outputs": [
    {
     "name": "stdout",
     "output_type": "stream",
     "text": [
      "reddit\n",
      "density 0.0014887912646250536\n",
      "rank 2905\n"
     ]
    }
   ],
   "source": [
    "print('reddit')\n",
    "print('density',nx.density(reddit_G))\n",
    "print('rank',np.linalg.matrix_rank(reddit_adj.todense()))"
   ]
  },
  {
   "cell_type": "code",
   "execution_count": null,
   "metadata": {},
   "outputs": [],
   "source": []
  },
  {
   "cell_type": "code",
   "execution_count": 13,
   "metadata": {},
   "outputs": [
    {
     "name": "stdout",
     "output_type": "stream",
     "text": [
      "Original Ratio of certified all nodes: 0.130605\n",
      "-2.981216\n"
     ]
    }
   ],
   "source": [
    "non_control = torch.ones(n,n)\n",
    "\n",
    "ori_ppr_changing = pagerank_adj_changing(\n",
    "    ori_adj, alpha, fragile, non_control, local_budget, logits)\n",
    "\n",
    "np.save('my_cora/add_rem/one_local_%d%d/ori_ppr_changing.npy'%(0,x[i]), ori_ppr_changing)\n",
    "\n",
    "ori_worst_margins = worst_margins_given_k_squared(ori_ppr_changing, labels, logits)\n",
    "print('Original Ratio of certified all nodes: {:.6f}'.format((ori_worst_margins>0).mean()))\n",
    "print('%.6f'%ori_worst_margins.mean())"
   ]
  },
  {
   "cell_type": "code",
   "execution_count": 14,
   "metadata": {
    "scrolled": true
   },
   "outputs": [
    {
     "name": "stdout",
     "output_type": "stream",
     "text": [
      "peak memory: 23058.52 MiB, increment: -0.24 MiB\n",
      "160\n",
      "control edges num: 0\n",
      "control edges num: 50\n",
      "control edges num: 100\n",
      "control edges num: 150\n",
      "time:  6958.60612988472\n"
     ]
    }
   ],
   "source": [
    "# meta immunity\n",
    "%memit\n",
    "con_ratio = 0.01\n",
    "con_budget = round(edge_num * con_ratio)\n",
    "print(con_budget)\n",
    "# ori_ppr_changing = np.aload('my_cora/add_rem/one_local_%d%d/ori_ppr_changing.npy'%(0,x[i])).item()\n",
    "con_budget_local = np.maximum(deg-0 , 0)\n",
    "exceed_local = []\n",
    "for exceed_i in range(n):\n",
    "    if con_budget_local[exceed_i] == 0:\n",
    "        exceed_local.append(exceed_i)\n",
    "# print('Equals local budget:', exceed_local)\n",
    "adj_controlled = grad_adv_immune(adj, ori_ppr_changing, exceed_local, con_budget, logits, \n",
    "                                 labels, alpha, con_budget_local)\n",
    "for idx in range(n):\n",
    "    tmp = np.where(adj_controlled[idx] == 0)[0].shape[0]\n",
    "    if tmp > con_budget_local[idx]:\n",
    "        print('Node %d: actual %d, budget: %d' % (idx,tmp,con_budget_local[idx]))\n",
    "              "
   ]
  },
  {
   "cell_type": "code",
   "execution_count": 8,
   "metadata": {},
   "outputs": [
    {
     "name": "stdout",
     "output_type": "stream",
     "text": [
      "local_budget = deg - 6\n",
      "Original Ratio of certified all nodes: 0.130605\n",
      "Original num of robust node: 367\n",
      "-2.9812161629466885\n",
      "After control 6400: Ratio of certified all nodes: 0.160498\n",
      "num of robust node: 451\n",
      "-2.3578959130603128\n"
     ]
    }
   ],
   "source": [
    "ori_ppr_changing = np.aload('my_cora/add_one_local_%d%d/ori_ppr_changing.npy'%(6,0)).item()\n",
    "print('local_budget = deg -', x[i])\n",
    "ori_worst_margins = worst_margins_given_k_squared(ori_ppr_changing, labels, logits)\n",
    "print('Original Ratio of certified all nodes: {:.6f}'.format((ori_worst_margins>0).mean()))\n",
    "print('Original num of robust node:', (ori_worst_margins>0).sum())\n",
    "print(ori_worst_margins.mean())\n",
    "con_budget = 6400\n",
    "adj_controlled = torch.Tensor(np.aload('my_cora/add_one_local_%d%d/adj_controlled_%d.npy'%(6,0,con_budget)))\n",
    "adj_controlled = torch.Tensor(adj_controlled)\n",
    "con_ppr_changing = pagerank_adj_changing(ori_adj, alpha, fragile, adj_controlled, local_budget, logits)\n",
    "con_worst_margins = worst_margins_given_k_squared(con_ppr_changing, labels, logits)\n",
    "print('After control {:d}: Ratio of certified all nodes: {:.6f}'.format(con_budget, (con_worst_margins>0).mean()))\n",
    "print('num of robust node:', (con_worst_margins>0).sum())\n",
    "print(con_worst_margins.mean())\n",
    "\n",
    "# adj_controlled = adj_controlled.detach().numpy()\n",
    "# np.save('my_cora/add_rem/one_local_%d%d/adj_controlled_%.1f%%.npy'%(0,x[i],(con_ratio*100)), adj_controlled)\n"
   ]
  },
  {
   "cell_type": "code",
   "execution_count": null,
   "metadata": {},
   "outputs": [],
   "source": []
  },
  {
   "cell_type": "code",
   "execution_count": null,
   "metadata": {},
   "outputs": [],
   "source": []
  },
  {
   "cell_type": "code",
   "execution_count": null,
   "metadata": {},
   "outputs": [],
   "source": []
  },
  {
   "cell_type": "code",
   "execution_count": 5,
   "metadata": {
    "scrolled": true
   },
   "outputs": [
    {
     "name": "stdout",
     "output_type": "stream",
     "text": [
      "local_budget = deg - 6\n",
      "Original Ratio of certified all nodes: 0.130605\n",
      "Original num of robust node: 367\n",
      "-2.9812161629466885\n",
      "After control 2873: Ratio of certified all nodes: 0.155160\n",
      "num of robust node: 436\n",
      "-2.4293854613014534\n",
      "After control 3192: Ratio of certified all nodes: 0.155516\n",
      "num of robust node: 437\n",
      "-2.419766098803433\n"
     ]
    }
   ],
   "source": [
    "budget_arr = np.arange(0.16,0.2,0.02)\n",
    "robust_arr = []\n",
    "robnum_arr = []\n",
    "con_worst_margins_arr = []\n",
    "ori_ppr_changing = np.aload('my_cora/add_rem/one_local_%d0/ori_ppr_changing.npy'%x[i]).item()\n",
    "# ori_ppr_changing = np.aload('my_cora/add_rem/one_local_%d0/ori_ppr_changing.npy'%x[i]).item()\n",
    "print('local_budget = deg -', x[i])\n",
    "ori_worst_margins = worst_margins_given_k_squared(ori_ppr_changing, labels, logits)\n",
    "print('Original Ratio of certified all nodes: {:.6f}'.format((ori_worst_margins>0).mean()))\n",
    "print('Original num of robust node:', (ori_worst_margins>0).sum())\n",
    "print(ori_worst_margins.mean())\n",
    "robust_arr.append((ori_worst_margins>0).mean())\n",
    "robnum_arr.append((ori_worst_margins>0).sum())\n",
    "con_worst_margins_arr.append(ori_worst_margins.mean())\n",
    "\n",
    "for con_ratio in budget_arr[:-1]+0.02:\n",
    "    con_budget = int(round(edge_num * con_ratio))\n",
    "    adj_controlled = torch.Tensor(np.aload('my_cora/add_rem/one_local_%d%d/adj_controlled_%.1f%%.npy'%(x[i],0,con_ratio*100)))\n",
    "    con_ppr_changing = pagerank_adj_changing(ori_adj, alpha, fragile, adj_controlled, local_budget, logits)\n",
    "    con_worst_margins = worst_margins_given_k_squared(con_ppr_changing, labels, logits)\n",
    "    print('After control {:d}: Ratio of certified all nodes: {:.6f}'.format(con_budget, (con_worst_margins>0).mean()))\n",
    "    print('num of robust node:', (con_worst_margins>0).sum())\n",
    "    print(con_worst_margins.mean())\n",
    "    robust_arr.append((con_worst_margins>0).mean())\n",
    "    robnum_arr.append((con_worst_margins>0).sum())\n",
    "    con_worst_margins_arr.append(con_worst_margins.mean())\n",
    "\n",
    "robust_arr = np.array(robust_arr)\n",
    "robnum_arr = np.array(robnum_arr)\n",
    "con_worst_margins_arr = np.array(con_worst_margins_arr)\n",
    "\n",
    "dataframe = pd.DataFrame({u'控制边数':budget_arr,u'鲁棒节点比例':robust_arr,u'鲁棒节点数':robnum_arr,u'边距':con_worst_margins_arr})\n",
    "\n",
    "dataframe.to_csv('my_cora/add_rem_one_local_%d%d.csv'%(0,x[i]))\n"
   ]
  },
  {
   "cell_type": "code",
   "execution_count": 8,
   "metadata": {},
   "outputs": [
    {
     "data": {
      "text/plain": [
       "15962.0"
      ]
     },
     "execution_count": 8,
     "metadata": {},
     "output_type": "execute_result"
    }
   ],
   "source": [
    "edge_num"
   ]
  },
  {
   "cell_type": "code",
   "execution_count": null,
   "metadata": {},
   "outputs": [],
   "source": []
  },
  {
   "cell_type": "code",
   "execution_count": 4,
   "metadata": {
    "scrolled": true
   },
   "outputs": [
    {
     "name": "stdout",
     "output_type": "stream",
     "text": [
      "Original Ratio of certified all nodes: 0.643416\n",
      "0.581481\n"
     ]
    }
   ],
   "source": [
    "non_control =  torch.ones(n,n)\n",
    "\n",
    "ori_ppr_changing = pagerank_adj_changing(\n",
    "    ori_adj, alpha, fragile, non_control, local_budget, logits)\n",
    "np.save('my_cora/one_attacklocal_%d%d/ori_ppr_changing.npy'%(x[i],0), ori_ppr_changing)\n",
    "\n",
    "ori_worst_margins = worst_margins_given_k_squared(ori_ppr_changing, labels, logits)\n",
    "print('Original Ratio of certified all nodes: {:.6f}'.format((ori_worst_margins>0).mean()))\n",
    "print('%.6f'%ori_worst_margins.mean())"
   ]
  },
  {
   "cell_type": "code",
   "execution_count": 5,
   "metadata": {
    "scrolled": true
   },
   "outputs": [
    {
     "name": "stdout",
     "output_type": "stream",
     "text": [
      "peak memory: 2910.60 MiB, increment: 0.00 MiB\n",
      "control edges num: 0\n",
      "time:  2494.925592660904\n"
     ]
    }
   ],
   "source": [
    "# meta immunity\n",
    "%memit\n",
    "con_budget = 50\n",
    "ori_ppr_changing = np.aload('my_cora/one_local_%d%d/ori_ppr_changing.npy'%(0,x[i])).item()\n",
    "con_budget_local = np.maximum(deg-0 , 0)\n",
    "exceed_local = []\n",
    "for exceed_i in range(n):\n",
    "    if con_budget_local[exceed_i] == 0:\n",
    "        exceed_local.append(exceed_i)\n",
    "adj_controlled = grad_adv_immune(adj, ori_ppr_changing, exceed_local, \n",
    "                                 con_budget, logits, labels, alpha, con_budget_local)\n",
    "for idx in range(n):\n",
    "    tmp = np.where(adj_controlled[idx] == 0)[0].shape[0]\n",
    "    if tmp > con_budget_local[idx]:\n",
    "        print('Node %d: actual %d, budget: %d' % (idx,tmp,con_budget_local[idx]))"
   ]
  },
  {
   "cell_type": "code",
   "execution_count": 6,
   "metadata": {
    "scrolled": true
   },
   "outputs": [
    {
     "name": "stdout",
     "output_type": "stream",
     "text": [
      "local_budget = deg - 6\n",
      "Original Ratio of certified all nodes: 0.427046\n",
      "Original num of robust node: 1200\n",
      "worst case margin: -0.736396\n",
      "After control 50: Ratio of certified all nodes: 0.648399\n",
      "num of robust node: 1822\n",
      "worst case margin: 0.610850\n"
     ]
    }
   ],
   "source": [
    "print('local_budget = deg -', x[i])\n",
    "ori_worst_margins = worst_margins_given_k_squared(ori_ppr_changing, labels, logits)\n",
    "print('Original Ratio of certified all nodes: {:.6f}'.format((ori_worst_margins>0).mean()))\n",
    "print('Original num of robust node:', (ori_worst_margins>0).sum())\n",
    "print('worst case margin: {:.6f}'.format(ori_worst_margins.mean()))\n",
    "# con_budget = 50\n",
    "# adj_controlled = torch.Tensor(np.aload('my_cora/one_local_%d%d/adj_controlled_%d.npy'%(x[i],x[i],con_budget)))\n",
    "con_ppr_changing = pagerank_adj_changing(ori_adj, alpha, fragile, adj_controlled, local_budget, logits)\n",
    "con_worst_margins = worst_margins_given_k_squared(con_ppr_changing, labels, logits)\n",
    "print('After control {:d}: Ratio of certified all nodes: {:.6f}'.format(con_budget, (con_worst_margins>0).mean()))\n",
    "print('num of robust node:', (con_worst_margins>0).sum())\n",
    "print('worst case margin: {:.6f}'.format(con_worst_margins.mean()))\n",
    "\n",
    "adj_controlled = adj_controlled.detach().numpy()\n",
    "np.save('my_cora/one_attacklocal_%d%d/adj_controlled_%d.npy'%(x[i],0,con_budget), adj_controlled)"
   ]
  },
  {
   "cell_type": "code",
   "execution_count": null,
   "metadata": {},
   "outputs": [],
   "source": []
  },
  {
   "cell_type": "code",
   "execution_count": null,
   "metadata": {},
   "outputs": [],
   "source": []
  },
  {
   "cell_type": "code",
   "execution_count": 6,
   "metadata": {},
   "outputs": [
    {
     "data": {
      "text/plain": [
       "tensor([0, 0, 0, 2, 2], dtype=torch.uint8)"
      ]
     },
     "execution_count": 6,
     "metadata": {},
     "output_type": "execute_result"
    }
   ],
   "source": [
    "a = torch.Tensor([0,1,2,3,4])\n",
    "b= (a>2)\n",
    "b*2"
   ]
  },
  {
   "cell_type": "code",
   "execution_count": null,
   "metadata": {},
   "outputs": [],
   "source": []
  },
  {
   "cell_type": "code",
   "execution_count": null,
   "metadata": {},
   "outputs": [],
   "source": []
  },
  {
   "cell_type": "code",
   "execution_count": null,
   "metadata": {},
   "outputs": [],
   "source": []
  },
  {
   "cell_type": "code",
   "execution_count": null,
   "metadata": {},
   "outputs": [],
   "source": []
  }
 ],
 "metadata": {
  "kernelspec": {
   "display_name": "Python 3",
   "language": "python",
   "name": "python3"
  },
  "language_info": {
   "codemirror_mode": {
    "name": "ipython",
    "version": 3
   },
   "file_extension": ".py",
   "mimetype": "text/x-python",
   "name": "python",
   "nbconvert_exporter": "python",
   "pygments_lexer": "ipython3",
   "version": "3.6.10"
  }
 },
 "nbformat": 4,
 "nbformat_minor": 2
}
