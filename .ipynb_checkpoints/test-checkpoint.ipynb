{
 "cells": [
  {
   "cell_type": "code",
   "execution_count": 1,
   "metadata": {},
   "outputs": [],
   "source": [
    "import numpy as np\n",
    "import torch\n",
    "import seaborn as sns\n",
    "from matplotlib import pyplot as plt\n",
    "\n",
    "from utils import *\n",
    "from attack import *\n",
    "from adv_immunity import *\n",
    "torch.cuda.empty_cache()\n",
    "\n",
    "np_load_old = np.load\n",
    "np.aload = lambda *a,**k: np_load_old(*a, allow_pickle=True, **k)\n",
    "%load_ext memory_profiler\n",
    "seed = 15\n",
    "alpha = 0.85"
   ]
  },
  {
   "cell_type": "code",
   "execution_count": 2,
   "metadata": {},
   "outputs": [
    {
     "name": "stdout",
     "output_type": "stream",
     "text": [
      "peak memory: 244.00 MiB, increment: -0.49 MiB\n"
     ]
    }
   ],
   "source": [
    "# 载入数据\n",
    "file_name = 'data/cora.npz'\n",
    "graph = load_dataset(file_name=file_name)\n",
    "ori_adj, ori_attr, labels = standardize(adj_matrix=graph['adj_matrix'],\n",
    "                             attr_matrix=graph['attr_matrix'],\n",
    "                             labels=graph['labels'])\n",
    "adj = torch.from_numpy(ori_adj.todense()).float()\n",
    "edge_num = adj.sum().item()\n",
    "# loaded = np.load('data/cora_pretrained_logits.npz')\n",
    "# logits = loaded['logits']\n",
    "logits = np.load('data/my_cora_logits.npy')\n",
    "labels = np.load('output_csv/cora_predict.npy')\n",
    "%memit"
   ]
  },
  {
   "cell_type": "code",
   "execution_count": 3,
   "metadata": {},
   "outputs": [],
   "source": [
    "i = 0\n",
    "x = [0, 2, 4, 6]\n",
    "# strength = [11, 9 ,7, 5]  local_budget=deg-11+strength\n",
    "deg = ori_adj.sum(1).A1.astype(np.int32)\n",
    "local_budget = np.maximum(deg-x[i], 0)\n",
    "# 生成可扰动边\n",
    "fragile = get_fragile(adj=ori_adj, threat_model='rem')\n",
    "n,nc = logits.shape"
   ]
  },
  {
   "cell_type": "code",
   "execution_count": null,
   "metadata": {
    "scrolled": true
   },
   "outputs": [
    {
     "name": "stdout",
     "output_type": "stream",
     "text": [
      "global budget: 319\n",
      "peak memory: 244.59 MiB, increment: 0.02 MiB\n",
      "After control 319: Ratio of certified all nodes: 0.525979\n",
      "num of robust node: 1478\n",
      "worst case margin: 0.059626\n",
      "control edges num: 160\n",
      "control edges num: 180\n",
      "control edges num: 200\n",
      "control edges num: 220\n"
     ]
    }
   ],
   "source": [
    "# 从之前得到的控制边得到更多的控制边\n",
    "con_ratio = 0.02\n",
    "cur_con_num = round(edge_num * (con_ratio-0.01))\n",
    "con_budget = round(edge_num * con_ratio)\n",
    "print('global budget:',con_budget)\n",
    "%memit\n",
    "cur_control = np.aload('my_cora/rem_attack_change/one_attacklocal_%d%d/adj_controlled_%.1f%%.npy'%(0,0,(con_ratio-0.01)*100))\n",
    "cur_controlled = torch.Tensor(cur_control)\n",
    "con_ppr_changing = pagerank_adj_changing(ori_adj, alpha, fragile, cur_controlled, local_budget, logits)\n",
    "con_worst_margins = worst_margins_given_k_squared(con_ppr_changing, labels, logits)\n",
    "print('After control {:d}: Ratio of certified all nodes: {:.6f}'.format(con_budget, (con_worst_margins>0).mean()))\n",
    "print('num of robust node:', (con_worst_margins>0).sum())\n",
    "print('worst case margin: {:.6f}'.format(con_worst_margins.mean()))\n",
    "\n",
    "# ori_ppr_changing = np.aload('my_cora/one_attacklocal_%d%d/ori_ppr_changing.npy'%(x[i],0)).item()\n",
    "n, nc = logits.shape\n",
    "con_budget_local = np.maximum(deg-x[i] , 0)\n",
    "cur_control = cur_controlled.detach()\n",
    "exceed_local = []\n",
    "for exceed_i in range(n):\n",
    "    cur_localcon = np.where(cur_control[exceed_i]==0)[0].shape[0]\n",
    "    if cur_localcon == con_budget_local[exceed_i]:\n",
    "        exceed_local.append(exceed_i)\n",
    "\n",
    "adj_controlled = continue_grad_adv_immune(adj, con_ppr_changing, cur_controlled, exceed_local, \n",
    "                                                 cur_con_num, con_budget, logits, labels, alpha, con_budget_local)\n",
    "\n",
    "for idx in range(n):\n",
    "    tmp = np.where(adj_controlled[idx] == 0)[0].shape[0]\n",
    "    if tmp > con_budget_local[idx]:\n",
    "        print('Node %d: actual %d, budget: %d' % (idx,tmp,con_budget_local[idx]))\n",
    "        "
   ]
  },
  {
   "cell_type": "code",
   "execution_count": null,
   "metadata": {},
   "outputs": [],
   "source": [
    "# print('local_budget = deg -', x[i])\n",
    "# ori_worst_margins = worst_margins_given_k_squared(ori_ppr_changing, labels, logits)\n",
    "# print('Original Ratio of certified all nodes: {:.6f}'.format((ori_worst_margins>0).mean()))\n",
    "# print('Original num of robust node:', (ori_worst_margins>0).sum())\n",
    "# print('worst case margin: {:.6f}'.format(ori_worst_margins.mean()))\n",
    "# con_budget = 50\n",
    "# adj_controlled = torch.Tensor(np.aload('my_cora/one_local_%d%d/adj_controlled_%d.npy'%(0,x[i],con_budget)))\n",
    "con_ppr_changing = pagerank_adj_changing(ori_adj, alpha, fragile, adj_controlled, local_budget, logits)\n",
    "con_worst_margins = worst_margins_given_k_squared(con_ppr_changing, labels, logits)\n",
    "print('After control {:d}: Ratio of certified all nodes: {:.6f}'.format(con_budget, (con_worst_margins>0).mean()))\n",
    "print('num of robust node:', (con_worst_margins>0).sum())\n",
    "print('worst case margin: {:.6f}'.format(con_worst_margins.mean()))\n",
    "\n",
    "adj_controlled = adj_controlled.detach().numpy()\n",
    "np.save('my_cora/rem_attack_change/one_attacklocal_%d%d/adj_controlled_%.1f%%.npy'%(x[i],0,(con_ratio*100)), adj_controlled)"
   ]
  },
  {
   "cell_type": "code",
   "execution_count": null,
   "metadata": {},
   "outputs": [],
   "source": []
  },
  {
   "cell_type": "code",
   "execution_count": null,
   "metadata": {},
   "outputs": [],
   "source": [
    "# 从之前得到的控制边得到更多的控制边\n",
    "con_ratio = 0.03\n",
    "cur_con_num = round(edge_num * (con_ratio-0.01))\n",
    "con_budget = round(edge_num * con_ratio)\n",
    "\n",
    "# %memit cur_control = np.aload('my_reddit/one_attacklocal_%d%d/adj_controlled_%d.npy'%(x[i],0,cur_con_num))\n",
    "%memit cur_control = adj_controlled\n",
    "cur_controlled = torch.Tensor(cur_control)\n",
    "# ori_ppr_changing = np.aload('my_cora/one_attacklocal_%d%d/ori_ppr_changing.npy'%(x[i],0)).item()\n",
    "n, nc = logits.shape\n",
    "con_budget_local = np.maximum(deg-x[i] , 0)\n",
    "cur_control = cur_controlled.detach()\n",
    "exceed_local = []\n",
    "for exceed_i in range(n):\n",
    "    cur_localcon = np.where(cur_control[exceed_i]==0)[0].shape[0]\n",
    "    if cur_localcon == con_budget_local[exceed_i]:\n",
    "        exceed_local.append(exceed_i)\n",
    "\n",
    "%memit adj_controlled = continue_grad_adv_immune(adj, con_ppr_changing, cur_controlled, exceed_local, cur_con_num, con_budget, logits, labels, alpha, con_budget_local)\n",
    "\n",
    "for idx in range(n):\n",
    "    tmp = np.where(adj_controlled[idx] == 0)[0].shape[0]\n",
    "    if tmp > con_budget_local[idx]:\n",
    "        print('Node %d: actual %d, budget: %d' % (idx,tmp,con_budget_local[idx]))\n",
    "        \n",
    "con_ppr_changing = pagerank_adj_changing(ori_adj, alpha, fragile, adj_controlled, local_budget, logits)\n",
    "con_worst_margins = worst_margins_given_k_squared(con_ppr_changing, labels, logits)\n",
    "print('After control {:d}: Ratio of certified all nodes: {:.6f}'.format(con_budget, (con_worst_margins>0).mean()))\n",
    "print('num of robust node:', (con_worst_margins>0).sum())\n",
    "print('worst case margin: {:.6f}'.format(con_worst_margins.mean()))\n",
    "\n",
    "adj_controlled = adj_controlled.detach().numpy()\n",
    "np.save('my_cora/rem_attack_change/one_attacklocal_%d%d/adj_controlled_%.1f%%.npy'%(x[i],0,(con_ratio*100)), adj_controlled)"
   ]
  },
  {
   "cell_type": "code",
   "execution_count": null,
   "metadata": {},
   "outputs": [],
   "source": []
  },
  {
   "cell_type": "code",
   "execution_count": null,
   "metadata": {},
   "outputs": [],
   "source": [
    "# 从之前得到的控制边得到更多的控制边\n",
    "con_ratio = 0.04\n",
    "cur_con_num = round(edge_num * (con_ratio-0.01))\n",
    "con_budget = round(edge_num * con_ratio)\n",
    "\n",
    "# %memit cur_control = np.aload('my_cora/one_local_%d%d/adj_controlled_%.1f%%.npy'%(0,0,(con_ratio-0.005)*100))\n",
    "%memit cur_control = adj_controlled\n",
    "cur_controlled = torch.Tensor(cur_control)\n",
    "# ori_ppr_changing = np.aload('my_cora/one_local_%d%d/ori_ppr_changing.npy'%(x[i],0)).item()\n",
    "n, nc = logits.shape\n",
    "con_budget_local = np.maximum(deg-x[i] , 0)\n",
    "cur_control = cur_controlled.detach()\n",
    "exceed_local = []\n",
    "for exceed_i in range(n):\n",
    "    cur_localcon = np.where(cur_control[exceed_i]==0)[0].shape[0]\n",
    "    if cur_localcon == con_budget_local[exceed_i]:\n",
    "        exceed_local.append(exceed_i)\n",
    "\n",
    "%memit adj_controlled = continue_grad_adv_immune(adj, con_ppr_changing, cur_controlled, exceed_local, cur_con_num, \n",
    "                                                 con_budget, logits, labels, alpha, con_budget_local)\n",
    "\n",
    "for idx in range(n):\n",
    "    tmp = np.where(adj_controlled[idx] == 0)[0].shape[0]\n",
    "    if tmp > con_budget_local[idx]:\n",
    "        print('Node %d: actual %d, budget: %d' % (idx,tmp,con_budget_local[idx]))\n",
    "        \n",
    "con_ppr_changing = pagerank_adj_changing(ori_adj, alpha, fragile, adj_controlled, local_budget, logits)\n",
    "con_worst_margins = worst_margins_given_k_squared(con_ppr_changing, labels, logits)\n",
    "print('After control {:d}: Ratio of certified all nodes: {:.6f}'.format(con_budget, (con_worst_margins>0).mean()))\n",
    "print('num of robust node:', (con_worst_margins>0).sum())\n",
    "print('worst case margin: {:.6f}'.format(con_worst_margins.mean()))\n",
    "adj_controlled = adj_controlled.detach().numpy()\n",
    "np.save('my_cora/rem_attack_change/one_attacklocal_%d%d/adj_controlled_%.1f%%.npy'%(x[i],0,(con_ratio*100)), adj_controlled)"
   ]
  },
  {
   "cell_type": "code",
   "execution_count": null,
   "metadata": {},
   "outputs": [],
   "source": []
  },
  {
   "cell_type": "code",
   "execution_count": null,
   "metadata": {
    "scrolled": true
   },
   "outputs": [],
   "source": [
    "# 从之前得到的控制边得到更多的控制边\n",
    "con_ratio = 0.05\n",
    "cur_con_num = round(edge_num * (con_ratio-0.005))\n",
    "con_budget = round(edge_num * con_ratio)\n",
    "print(con_budget)\n",
    "# %memit cur_control = np.aload('my_reddit/one_attacklocal_%d%d/adj_controlled_%d.npy'%(x[i],0,cur_con_num))\n",
    "%memit cur_control = adj_controlled\n",
    "cur_controlled = torch.Tensor(cur_control)\n",
    "# ori_ppr_changing = np.aload('my_cora/one_attacklocal_%d%d/ori_ppr_changing.npy'%(x[i],0)).item()\n",
    "n, nc = logits.shape\n",
    "con_budget_local = np.maximum(deg-x[i] , 0)\n",
    "cur_control = cur_controlled.detach()\n",
    "exceed_local = []\n",
    "for exceed_i in range(n):\n",
    "    cur_localcon = np.where(cur_control[exceed_i]==0)[0].shape[0]\n",
    "    if cur_localcon == con_budget_local[exceed_i]:\n",
    "        exceed_local.append(exceed_i)\n",
    "\n",
    "%memit adj_controlled = continue_grad_adv_immune(adj, ori_ppr_changing, cur_controlled, exceed_local, cur_con_num, con_budget, logits, labels, alpha, con_budget_local)\n",
    "\n",
    "for idx in range(n):\n",
    "    tmp = np.where(adj_controlled[idx] == 0)[0].shape[0]\n",
    "    if tmp > con_budget_local[idx]:\n",
    "        print('Node %d: actual %d, budget: %d' % (idx,tmp,con_budget_local[idx]))\n",
    "\n",
    "adj_controlled = adj_controlled.detach().numpy()\n",
    "np.save('my_cora/one_attacklocal_%d%d/adj_controlled_%.1f%%.npy'%(x[i],0,(con_ratio*100)), adj_controlled)\n"
   ]
  },
  {
   "cell_type": "code",
   "execution_count": null,
   "metadata": {},
   "outputs": [],
   "source": []
  }
 ],
 "metadata": {
  "kernelspec": {
   "display_name": "Python 3",
   "language": "python",
   "name": "python3"
  },
  "language_info": {
   "codemirror_mode": {
    "name": "ipython",
    "version": 3
   },
   "file_extension": ".py",
   "mimetype": "text/x-python",
   "name": "python",
   "nbconvert_exporter": "python",
   "pygments_lexer": "ipython3",
   "version": "3.6.10"
  }
 },
 "nbformat": 4,
 "nbformat_minor": 2
}
